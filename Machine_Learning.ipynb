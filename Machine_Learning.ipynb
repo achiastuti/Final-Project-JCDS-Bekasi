{
 "cells": [
  {
   "cell_type": "markdown",
   "metadata": {},
   "source": [
    "# Term Deposit Prediction | Machine Learning"
   ]
  },
  {
   "cell_type": "markdown",
   "metadata": {},
   "source": [
    "A Term deposit is a deposit that a bank or a financial institurion offers with a fixed rate (often better than just opening deposit account) in which your money will be returned back at a specific maturity time. For more information with regards to Term Deposits please click on this link from Investopedia : [Investopedia](https://www.investopedia.com/terms/t/termdeposit.asp)<br>\n",
    "\n",
    "This datasets can be used for 2 different business goals:\n",
    "\n",
    "1. Prediction of the results of the marketing campaign for each customer and clarification of factors which affect the campaign results. This helps to find out the ways how to make marketing campaigns more efficient.\n",
    "2. Finding out customer segments, using data for customers, who subscribed to term deposit. This helps to identify the profile of a customer, who is more likely to acquire the product and develop more targeted marketing campaigns.\n",
    "\n",
    "Use this prediction to optimize marketing campaigns to attract more customers to open term deposit. \n",
    "\n",
    "Detailed description of the dataset's content is describe in this source [Datasets Source](https://www.kaggle.com/janiobachmann/bank-marketing-dataset)"
   ]
  },
  {
   "cell_type": "code",
   "execution_count": 1,
   "metadata": {},
   "outputs": [],
   "source": [
    "import numpy as np\n",
    "import pandas as pd\n",
    "import seaborn as sns\n",
    "import matplotlib.pyplot as plt\n",
    "import joblib\n",
    "import warnings\n",
    "warnings.filterwarnings(\"ignore\")\n",
    "from sklearn.preprocessing import StandardScaler\n",
    "from sklearn.tree import DecisionTreeClassifier\n",
    "from sklearn.ensemble import RandomForestClassifier, GradientBoostingClassifier\n",
    "from sklearn.linear_model import LogisticRegression\n",
    "from sklearn.model_selection import train_test_split, RandomizedSearchCV, cross_val_score, GridSearchCV\n",
    "from sklearn.metrics import plot_confusion_matrix, classification_report, accuracy_score, f1_score, roc_curve, auc, precision_score, recall_score,roc_auc_score\n",
    "from sklearn.metrics import confusion_matrix\n",
    "from imblearn.over_sampling import RandomOverSampler, SMOTE\n",
    "from imblearn.under_sampling import RandomUnderSampler"
   ]
  },
  {
   "cell_type": "code",
   "execution_count": 2,
   "metadata": {},
   "outputs": [
    {
     "data": {
      "text/html": [
       "<div>\n",
       "<style scoped>\n",
       "    .dataframe tbody tr th:only-of-type {\n",
       "        vertical-align: middle;\n",
       "    }\n",
       "\n",
       "    .dataframe tbody tr th {\n",
       "        vertical-align: top;\n",
       "    }\n",
       "\n",
       "    .dataframe thead th {\n",
       "        text-align: right;\n",
       "    }\n",
       "</style>\n",
       "<table border=\"1\" class=\"dataframe\">\n",
       "  <thead>\n",
       "    <tr style=\"text-align: right;\">\n",
       "      <th></th>\n",
       "      <th>age</th>\n",
       "      <th>default</th>\n",
       "      <th>housing</th>\n",
       "      <th>loan</th>\n",
       "      <th>duration</th>\n",
       "      <th>campaign</th>\n",
       "      <th>previous</th>\n",
       "      <th>deposit</th>\n",
       "      <th>job_admin.</th>\n",
       "      <th>job_blue-collar</th>\n",
       "      <th>...</th>\n",
       "      <th>marital_married</th>\n",
       "      <th>marital_single</th>\n",
       "      <th>education_primary</th>\n",
       "      <th>education_secondary</th>\n",
       "      <th>education_tertiary</th>\n",
       "      <th>education_unknown</th>\n",
       "      <th>poutcome_failure</th>\n",
       "      <th>poutcome_other</th>\n",
       "      <th>poutcome_success</th>\n",
       "      <th>poutcome_unknown</th>\n",
       "    </tr>\n",
       "  </thead>\n",
       "  <tbody>\n",
       "    <tr>\n",
       "      <th>0</th>\n",
       "      <td>59</td>\n",
       "      <td>0</td>\n",
       "      <td>1</td>\n",
       "      <td>0</td>\n",
       "      <td>1042</td>\n",
       "      <td>1</td>\n",
       "      <td>0</td>\n",
       "      <td>1</td>\n",
       "      <td>1</td>\n",
       "      <td>0</td>\n",
       "      <td>...</td>\n",
       "      <td>1</td>\n",
       "      <td>0</td>\n",
       "      <td>0</td>\n",
       "      <td>1</td>\n",
       "      <td>0</td>\n",
       "      <td>0</td>\n",
       "      <td>0</td>\n",
       "      <td>0</td>\n",
       "      <td>0</td>\n",
       "      <td>1</td>\n",
       "    </tr>\n",
       "    <tr>\n",
       "      <th>1</th>\n",
       "      <td>56</td>\n",
       "      <td>0</td>\n",
       "      <td>0</td>\n",
       "      <td>0</td>\n",
       "      <td>1467</td>\n",
       "      <td>1</td>\n",
       "      <td>0</td>\n",
       "      <td>1</td>\n",
       "      <td>1</td>\n",
       "      <td>0</td>\n",
       "      <td>...</td>\n",
       "      <td>1</td>\n",
       "      <td>0</td>\n",
       "      <td>0</td>\n",
       "      <td>1</td>\n",
       "      <td>0</td>\n",
       "      <td>0</td>\n",
       "      <td>0</td>\n",
       "      <td>0</td>\n",
       "      <td>0</td>\n",
       "      <td>1</td>\n",
       "    </tr>\n",
       "    <tr>\n",
       "      <th>2</th>\n",
       "      <td>41</td>\n",
       "      <td>0</td>\n",
       "      <td>1</td>\n",
       "      <td>0</td>\n",
       "      <td>1389</td>\n",
       "      <td>1</td>\n",
       "      <td>0</td>\n",
       "      <td>1</td>\n",
       "      <td>0</td>\n",
       "      <td>0</td>\n",
       "      <td>...</td>\n",
       "      <td>1</td>\n",
       "      <td>0</td>\n",
       "      <td>0</td>\n",
       "      <td>1</td>\n",
       "      <td>0</td>\n",
       "      <td>0</td>\n",
       "      <td>0</td>\n",
       "      <td>0</td>\n",
       "      <td>0</td>\n",
       "      <td>1</td>\n",
       "    </tr>\n",
       "    <tr>\n",
       "      <th>3</th>\n",
       "      <td>55</td>\n",
       "      <td>0</td>\n",
       "      <td>1</td>\n",
       "      <td>0</td>\n",
       "      <td>579</td>\n",
       "      <td>1</td>\n",
       "      <td>0</td>\n",
       "      <td>1</td>\n",
       "      <td>0</td>\n",
       "      <td>0</td>\n",
       "      <td>...</td>\n",
       "      <td>1</td>\n",
       "      <td>0</td>\n",
       "      <td>0</td>\n",
       "      <td>1</td>\n",
       "      <td>0</td>\n",
       "      <td>0</td>\n",
       "      <td>0</td>\n",
       "      <td>0</td>\n",
       "      <td>0</td>\n",
       "      <td>1</td>\n",
       "    </tr>\n",
       "    <tr>\n",
       "      <th>4</th>\n",
       "      <td>54</td>\n",
       "      <td>0</td>\n",
       "      <td>0</td>\n",
       "      <td>0</td>\n",
       "      <td>673</td>\n",
       "      <td>2</td>\n",
       "      <td>0</td>\n",
       "      <td>1</td>\n",
       "      <td>1</td>\n",
       "      <td>0</td>\n",
       "      <td>...</td>\n",
       "      <td>1</td>\n",
       "      <td>0</td>\n",
       "      <td>0</td>\n",
       "      <td>0</td>\n",
       "      <td>1</td>\n",
       "      <td>0</td>\n",
       "      <td>0</td>\n",
       "      <td>0</td>\n",
       "      <td>0</td>\n",
       "      <td>1</td>\n",
       "    </tr>\n",
       "    <tr>\n",
       "      <th>...</th>\n",
       "      <td>...</td>\n",
       "      <td>...</td>\n",
       "      <td>...</td>\n",
       "      <td>...</td>\n",
       "      <td>...</td>\n",
       "      <td>...</td>\n",
       "      <td>...</td>\n",
       "      <td>...</td>\n",
       "      <td>...</td>\n",
       "      <td>...</td>\n",
       "      <td>...</td>\n",
       "      <td>...</td>\n",
       "      <td>...</td>\n",
       "      <td>...</td>\n",
       "      <td>...</td>\n",
       "      <td>...</td>\n",
       "      <td>...</td>\n",
       "      <td>...</td>\n",
       "      <td>...</td>\n",
       "      <td>...</td>\n",
       "      <td>...</td>\n",
       "    </tr>\n",
       "    <tr>\n",
       "      <th>11157</th>\n",
       "      <td>33</td>\n",
       "      <td>0</td>\n",
       "      <td>1</td>\n",
       "      <td>0</td>\n",
       "      <td>257</td>\n",
       "      <td>1</td>\n",
       "      <td>0</td>\n",
       "      <td>0</td>\n",
       "      <td>0</td>\n",
       "      <td>1</td>\n",
       "      <td>...</td>\n",
       "      <td>0</td>\n",
       "      <td>1</td>\n",
       "      <td>1</td>\n",
       "      <td>0</td>\n",
       "      <td>0</td>\n",
       "      <td>0</td>\n",
       "      <td>0</td>\n",
       "      <td>0</td>\n",
       "      <td>0</td>\n",
       "      <td>1</td>\n",
       "    </tr>\n",
       "    <tr>\n",
       "      <th>11158</th>\n",
       "      <td>39</td>\n",
       "      <td>0</td>\n",
       "      <td>0</td>\n",
       "      <td>0</td>\n",
       "      <td>83</td>\n",
       "      <td>4</td>\n",
       "      <td>0</td>\n",
       "      <td>0</td>\n",
       "      <td>0</td>\n",
       "      <td>0</td>\n",
       "      <td>...</td>\n",
       "      <td>1</td>\n",
       "      <td>0</td>\n",
       "      <td>0</td>\n",
       "      <td>1</td>\n",
       "      <td>0</td>\n",
       "      <td>0</td>\n",
       "      <td>0</td>\n",
       "      <td>0</td>\n",
       "      <td>0</td>\n",
       "      <td>1</td>\n",
       "    </tr>\n",
       "    <tr>\n",
       "      <th>11159</th>\n",
       "      <td>32</td>\n",
       "      <td>0</td>\n",
       "      <td>0</td>\n",
       "      <td>0</td>\n",
       "      <td>156</td>\n",
       "      <td>2</td>\n",
       "      <td>0</td>\n",
       "      <td>0</td>\n",
       "      <td>0</td>\n",
       "      <td>0</td>\n",
       "      <td>...</td>\n",
       "      <td>0</td>\n",
       "      <td>1</td>\n",
       "      <td>0</td>\n",
       "      <td>1</td>\n",
       "      <td>0</td>\n",
       "      <td>0</td>\n",
       "      <td>0</td>\n",
       "      <td>0</td>\n",
       "      <td>0</td>\n",
       "      <td>1</td>\n",
       "    </tr>\n",
       "    <tr>\n",
       "      <th>11160</th>\n",
       "      <td>43</td>\n",
       "      <td>0</td>\n",
       "      <td>0</td>\n",
       "      <td>1</td>\n",
       "      <td>9</td>\n",
       "      <td>2</td>\n",
       "      <td>5</td>\n",
       "      <td>0</td>\n",
       "      <td>0</td>\n",
       "      <td>0</td>\n",
       "      <td>...</td>\n",
       "      <td>1</td>\n",
       "      <td>0</td>\n",
       "      <td>0</td>\n",
       "      <td>1</td>\n",
       "      <td>0</td>\n",
       "      <td>0</td>\n",
       "      <td>1</td>\n",
       "      <td>0</td>\n",
       "      <td>0</td>\n",
       "      <td>0</td>\n",
       "    </tr>\n",
       "    <tr>\n",
       "      <th>11161</th>\n",
       "      <td>34</td>\n",
       "      <td>0</td>\n",
       "      <td>0</td>\n",
       "      <td>0</td>\n",
       "      <td>628</td>\n",
       "      <td>1</td>\n",
       "      <td>0</td>\n",
       "      <td>0</td>\n",
       "      <td>0</td>\n",
       "      <td>0</td>\n",
       "      <td>...</td>\n",
       "      <td>1</td>\n",
       "      <td>0</td>\n",
       "      <td>0</td>\n",
       "      <td>1</td>\n",
       "      <td>0</td>\n",
       "      <td>0</td>\n",
       "      <td>0</td>\n",
       "      <td>0</td>\n",
       "      <td>0</td>\n",
       "      <td>1</td>\n",
       "    </tr>\n",
       "  </tbody>\n",
       "</table>\n",
       "<p>11162 rows × 31 columns</p>\n",
       "</div>"
      ],
      "text/plain": [
       "       age  default  housing  loan  duration  campaign  previous  deposit  \\\n",
       "0       59        0        1     0      1042         1         0        1   \n",
       "1       56        0        0     0      1467         1         0        1   \n",
       "2       41        0        1     0      1389         1         0        1   \n",
       "3       55        0        1     0       579         1         0        1   \n",
       "4       54        0        0     0       673         2         0        1   \n",
       "...    ...      ...      ...   ...       ...       ...       ...      ...   \n",
       "11157   33        0        1     0       257         1         0        0   \n",
       "11158   39        0        0     0        83         4         0        0   \n",
       "11159   32        0        0     0       156         2         0        0   \n",
       "11160   43        0        0     1         9         2         5        0   \n",
       "11161   34        0        0     0       628         1         0        0   \n",
       "\n",
       "       job_admin.  job_blue-collar  ...  marital_married  marital_single  \\\n",
       "0               1                0  ...                1               0   \n",
       "1               1                0  ...                1               0   \n",
       "2               0                0  ...                1               0   \n",
       "3               0                0  ...                1               0   \n",
       "4               1                0  ...                1               0   \n",
       "...           ...              ...  ...              ...             ...   \n",
       "11157           0                1  ...                0               1   \n",
       "11158           0                0  ...                1               0   \n",
       "11159           0                0  ...                0               1   \n",
       "11160           0                0  ...                1               0   \n",
       "11161           0                0  ...                1               0   \n",
       "\n",
       "       education_primary  education_secondary  education_tertiary  \\\n",
       "0                      0                    1                   0   \n",
       "1                      0                    1                   0   \n",
       "2                      0                    1                   0   \n",
       "3                      0                    1                   0   \n",
       "4                      0                    0                   1   \n",
       "...                  ...                  ...                 ...   \n",
       "11157                  1                    0                   0   \n",
       "11158                  0                    1                   0   \n",
       "11159                  0                    1                   0   \n",
       "11160                  0                    1                   0   \n",
       "11161                  0                    1                   0   \n",
       "\n",
       "       education_unknown  poutcome_failure  poutcome_other  poutcome_success  \\\n",
       "0                      0                 0               0                 0   \n",
       "1                      0                 0               0                 0   \n",
       "2                      0                 0               0                 0   \n",
       "3                      0                 0               0                 0   \n",
       "4                      0                 0               0                 0   \n",
       "...                  ...               ...             ...               ...   \n",
       "11157                  0                 0               0                 0   \n",
       "11158                  0                 0               0                 0   \n",
       "11159                  0                 0               0                 0   \n",
       "11160                  0                 1               0                 0   \n",
       "11161                  0                 0               0                 0   \n",
       "\n",
       "       poutcome_unknown  \n",
       "0                     1  \n",
       "1                     1  \n",
       "2                     1  \n",
       "3                     1  \n",
       "4                     1  \n",
       "...                 ...  \n",
       "11157                 1  \n",
       "11158                 1  \n",
       "11159                 1  \n",
       "11160                 0  \n",
       "11161                 1  \n",
       "\n",
       "[11162 rows x 31 columns]"
      ]
     },
     "execution_count": 2,
     "metadata": {},
     "output_type": "execute_result"
    }
   ],
   "source": [
    "data_model = pd.read_csv('data_clean.csv')\n",
    "data_model"
   ]
  },
  {
   "cell_type": "markdown",
   "metadata": {},
   "source": [
    "<hr>"
   ]
  },
  {
   "cell_type": "markdown",
   "metadata": {},
   "source": [
    "### Data Splitting"
   ]
  },
  {
   "cell_type": "markdown",
   "metadata": {},
   "source": [
    "Before we feed our data into the model, we need to split our dataset into train and test datasets. We will use sklearn train test split."
   ]
  },
  {
   "cell_type": "code",
   "execution_count": 3,
   "metadata": {},
   "outputs": [],
   "source": [
    "X = data_model.drop('deposit', axis=1)\n",
    "y = data_model['deposit']\n",
    "Xtr,Xts,ytr,yts = train_test_split(X,y,test_size = 0.2,random_state=42)\n"
   ]
  },
  {
   "cell_type": "code",
   "execution_count": 4,
   "metadata": {},
   "outputs": [
    {
     "data": {
      "text/plain": [
       "(8929, 30)"
      ]
     },
     "metadata": {},
     "output_type": "display_data"
    },
    {
     "data": {
      "text/plain": [
       "(2233, 30)"
      ]
     },
     "metadata": {},
     "output_type": "display_data"
    }
   ],
   "source": [
    "display(Xtr.shape)\n",
    "display(Xts.shape)\n"
   ]
  },
  {
   "cell_type": "markdown",
   "metadata": {},
   "source": [
    "<hr>"
   ]
  },
  {
   "cell_type": "markdown",
   "metadata": {},
   "source": [
    "### Machine Learning"
   ]
  },
  {
   "cell_type": "markdown",
   "metadata": {},
   "source": [
    "Now let's use cleaned datasets for prediction of campaign outcome with help of machine learning classification models.\n",
    "The classifications are: \n",
    "- `LogisticRegression`\n",
    "- `DecisionTreeClassifier`\n",
    "- `RandomForestClassifier`\n",
    "- `GradientBoostingClassifier`\n"
   ]
  },
  {
   "cell_type": "markdown",
   "metadata": {},
   "source": [
    "#### Logistic Regression"
   ]
  },
  {
   "cell_type": "markdown",
   "metadata": {},
   "source": [
    "Logistic Regression it’s a classification algorithm, that is used where the response variable is categorical. The idea of Logistic Regression is to find a relationship between features and probability of particular outcome.<br>\n",
    "Logistic Regression is a Machine Learning classification algorithm that is used to predict the probability of a categorical dependent variable. In logistic regression, the dependent variable is a binary variable that contains data coded as 1 (yes, success, etc.) or 0 (no, failure, etc.).<br>"
   ]
  },
  {
   "cell_type": "code",
   "execution_count": 5,
   "metadata": {},
   "outputs": [],
   "source": [
    "lrg = LogisticRegression(max_iter=10000)\n",
    "lrg.fit(Xtr,ytr)\n",
    "lrg_pred = lrg.predict(Xts)\n",
    "lrg_proba = lrg.predict_proba(Xts)\n",
    "lrg_accuracy=accuracy_score(yts, lrg_pred)\n",
    "lrg_f1=f1_score(yts, lrg_pred)\n",
    "lrg_precision_pos=precision_score(yts, lrg_pred)\n",
    "lrg_precision_neg=precision_score(yts, lrg_pred,pos_label=0)\n",
    "lrg_recall_pos=recall_score(yts, lrg_pred)\n",
    "lrg_recall_neg=recall_score(yts, lrg_pred,pos_label=0)\n",
    "lrg_scores = cross_val_score(lrg, Xtr, ytr, cv=3)\n",
    "lrg_mean = lrg_scores.mean()\n",
    "lrg_auc= roc_auc_score(yts, lrg_pred)"
   ]
  },
  {
   "cell_type": "markdown",
   "metadata": {},
   "source": [
    "#### Decision Tree Classifier"
   ]
  },
  {
   "cell_type": "markdown",
   "metadata": {},
   "source": [
    "Decision Tree is one of the easiest and popular classification algorithms to understand and interpret. It can be utilized for both classification and regression kind of problem.\n",
    "\n",
    "Decision Tree consists of :\n",
    "- Nodes : Test for the value of a certain attribute.\n",
    "- Edges/ Branch : Correspond to the outcome of a test and connect to the next node or leaf.\n",
    "- Leaf nodes : Terminal nodes that predict the outcome (represent class labels or class distribution).\n"
   ]
  },
  {
   "cell_type": "code",
   "execution_count": 6,
   "metadata": {},
   "outputs": [],
   "source": [
    "dtc = DecisionTreeClassifier()\n",
    "dtc.fit(Xtr,ytr)\n",
    "dtc_pred = dtc.predict(Xts)\n",
    "dtc_proba = dtc.predict_proba(Xts)\n",
    "dtc_accuracy=accuracy_score(yts, dtc_pred)\n",
    "dtc_f1=f1_score(yts, dtc_pred)\n",
    "dtc_precision_pos=precision_score(yts, dtc_pred)\n",
    "dtc_precision_neg=precision_score(yts, dtc_pred, pos_label=0)\n",
    "dtc_recall_pos=recall_score(yts, dtc_pred)\n",
    "dtc_recall_neg=recall_score(yts, dtc_pred, pos_label=0)\n",
    "dtc_scores = cross_val_score(dtc, Xtr, ytr, cv=3)\n",
    "dtc_mean = dtc_scores.mean()"
   ]
  },
  {
   "cell_type": "markdown",
   "metadata": {},
   "source": [
    "#### Random Forest Classifier"
   ]
  },
  {
   "cell_type": "markdown",
   "metadata": {},
   "source": [
    "Random Forest algorithm is a supervised classification algorithm. We can see it from its name, which is to create a forest by some way and make it random. There is a direct relationship between the number of trees in the forest and the results it can get: the larger the number of trees, the more accurate the result. But one thing to note is that creating the forest is not the same as constructing the decision with information gain or gain index approach.\n",
    "\n",
    "The difference between Random Forest algorithm and the decision tree algorithm is that in Random Forest, the process es of finding the root node and splitting the feature nodes will run randomly.\n",
    "\n"
   ]
  },
  {
   "cell_type": "code",
   "execution_count": 7,
   "metadata": {},
   "outputs": [],
   "source": [
    "rfc = RandomForestClassifier()\n",
    "rfc.fit(Xtr,ytr)\n",
    "rfc_pred = rfc.predict(Xts)\n",
    "rfc_proba = rfc.predict_proba(Xts)\n",
    "rfc_accuracy=accuracy_score(yts, rfc_pred)\n",
    "rfc_f1=f1_score(yts, rfc_pred)\n",
    "rfc_precision_pos=precision_score(yts, rfc_pred)\n",
    "rfc_precision_neg=precision_score(yts, rfc_pred, pos_label=0)\n",
    "rfc_recall_pos=recall_score(yts, rfc_pred)\n",
    "rfc_recall_neg=recall_score(yts, rfc_pred,pos_label=0)\n",
    "rfc_scores = cross_val_score(rfc, Xtr, ytr, cv=3)\n",
    "rfc_mean = rfc_scores.mean()"
   ]
  },
  {
   "cell_type": "markdown",
   "metadata": {},
   "source": [
    "#### Gradient Boost Classifier"
   ]
  },
  {
   "cell_type": "markdown",
   "metadata": {},
   "source": [
    "Gradient boosting is a machine learning technique for regression and classification problems, which produces a prediction model in the form of an ensemble of weak prediction models, typically decision trees. It builds the model in a stage-wise fashion like other boosting methods do, and it generalizes them by allowing optimization of an arbitrary differentiable loss function.\n",
    "\n",
    "Gradient Boosting work like AdaBoost but include few differences.\n",
    "\n",
    "Gradient boosting involves three elements:\n",
    "\n",
    "- A loss function to be optimized.\n",
    "- A weak learner to make predictions.\n",
    "- An additive model to add weak learners to minimize the loss function."
   ]
  },
  {
   "cell_type": "code",
   "execution_count": 8,
   "metadata": {},
   "outputs": [],
   "source": [
    "gbc = GradientBoostingClassifier()\n",
    "gbc.fit(Xtr,ytr)\n",
    "gbc_pred = gbc.predict(Xts)\n",
    "gbc_proba = gbc.predict_proba(Xts)\n",
    "gbc_accuracy=accuracy_score(yts, gbc_pred)\n",
    "gbc_f1=f1_score(yts, gbc_pred)\n",
    "gbc_precision_pos=precision_score(yts, gbc_pred)\n",
    "gbc_precision_neg=precision_score(yts, gbc_pred, pos_label=0)\n",
    "gbc_recall_pos=recall_score(yts, gbc_pred)\n",
    "gbc_recall_neg=recall_score(yts, gbc_pred, pos_label=0)\n",
    "gbc_scores = cross_val_score(gbc, Xtr, ytr, cv=3)\n",
    "gbc_mean = gbc_scores.mean()\n",
    "gbc_auc = roc_auc_score(yts, gbc_pred)"
   ]
  },
  {
   "cell_type": "markdown",
   "metadata": {},
   "source": [
    "<hr>\n",
    "\n",
    "### Optimize Model"
   ]
  },
  {
   "cell_type": "markdown",
   "metadata": {},
   "source": [
    "#### Hyperparameter"
   ]
  },
  {
   "cell_type": "markdown",
   "metadata": {},
   "source": [
    "##### RandomSearchCV"
   ]
  },
  {
   "cell_type": "markdown",
   "metadata": {},
   "source": [
    "#### Logistic Regression"
   ]
  },
  {
   "cell_type": "code",
   "execution_count": 9,
   "metadata": {},
   "outputs": [
    {
     "data": {
      "text/plain": [
       "RandomizedSearchCV(cv=5, estimator=LogisticRegression(max_iter=10000),\n",
       "                   param_distributions={'C': [1.0], 'class_weight': [None],\n",
       "                                        'dual': [False],\n",
       "                                        'fit_intercept': [True],\n",
       "                                        'intercept_scaling': [1],\n",
       "                                        'l1_ratio': [None],\n",
       "                                        'max_iter': [1, 10, 100, 1000, 10000],\n",
       "                                        'multi_class': ['auto'],\n",
       "                                        'n_jobs': [None],\n",
       "                                        'penalty': ['l1', 'l2', 'elasticnet'],\n",
       "                                        'random_state': [None],\n",
       "                                        'solver': ['newton-cg', 'lbfgs',\n",
       "                                                   'liblinear', 'sag', 'saga'],\n",
       "                                        'tol': [0.0001], 'verbose': [0],\n",
       "                                        'warm_start': [False]})"
      ]
     },
     "execution_count": 9,
     "metadata": {},
     "output_type": "execute_result"
    }
   ],
   "source": [
    "penalty = [\"l1\", \"l2\", \"elasticnet\"]\n",
    "solver = [\"newton-cg\", \"lbfgs\", \"liblinear\", \"sag\", \"saga\"]\n",
    "max_iter = [1, 10, 100, 1000, 10000]\n",
    "\n",
    "param_test = {\n",
    "    \"penalty\": penalty,\n",
    "    \"solver\": solver,\n",
    "    \"max_iter\" : max_iter,\n",
    "    \"C\": [1.0],\n",
    "    \"class_weight\" : [None],\n",
    "    \"dual\" : [False], \"fit_intercept\" : [True],\n",
    "    \"intercept_scaling\" : [1],\n",
    "    \"l1_ratio\" : [None],\n",
    "    \"multi_class\": ['auto'], \"n_jobs\" : [None],\n",
    "    \"random_state\" : [None], \"tol\": [0.0001],\n",
    "    \"verbose\" : [0], \"warm_start\": [False]\n",
    "}\n",
    "\n",
    "lrg_rnd = RandomizedSearchCV(estimator= lrg, param_distributions= param_test, cv= 5)\n",
    "lrg_rnd.fit(Xtr, ytr)"
   ]
  },
  {
   "cell_type": "code",
   "execution_count": 10,
   "metadata": {},
   "outputs": [
    {
     "data": {
      "text/plain": [
       "{'warm_start': False,\n",
       " 'verbose': 0,\n",
       " 'tol': 0.0001,\n",
       " 'solver': 'liblinear',\n",
       " 'random_state': None,\n",
       " 'penalty': 'l2',\n",
       " 'n_jobs': None,\n",
       " 'multi_class': 'auto',\n",
       " 'max_iter': 10,\n",
       " 'l1_ratio': None,\n",
       " 'intercept_scaling': 1,\n",
       " 'fit_intercept': True,\n",
       " 'dual': False,\n",
       " 'class_weight': None,\n",
       " 'C': 1.0}"
      ]
     },
     "execution_count": 10,
     "metadata": {},
     "output_type": "execute_result"
    }
   ],
   "source": [
    "lrg_rnd.best_params_"
   ]
  },
  {
   "cell_type": "code",
   "execution_count": 11,
   "metadata": {},
   "outputs": [
    {
     "data": {
      "text/plain": [
       "{'C': 1.0,\n",
       " 'class_weight': None,\n",
       " 'dual': False,\n",
       " 'fit_intercept': True,\n",
       " 'intercept_scaling': 1,\n",
       " 'l1_ratio': None,\n",
       " 'max_iter': 10,\n",
       " 'multi_class': 'auto',\n",
       " 'n_jobs': None,\n",
       " 'penalty': 'l2',\n",
       " 'random_state': None,\n",
       " 'solver': 'liblinear',\n",
       " 'tol': 0.0001,\n",
       " 'verbose': 0,\n",
       " 'warm_start': False}"
      ]
     },
     "execution_count": 11,
     "metadata": {},
     "output_type": "execute_result"
    }
   ],
   "source": [
    "lrg_random = lrg_rnd.best_estimator_\n",
    "lrg_random.get_params()"
   ]
  },
  {
   "cell_type": "code",
   "execution_count": 12,
   "metadata": {},
   "outputs": [],
   "source": [
    "lrg_random_pred = lrg_random.predict(Xts)\n",
    "lrg_random_proba = lrg_random.predict_proba(Xts)\n",
    "lrg_random_accuracy=accuracy_score(yts, lrg_random_pred)\n",
    "lrg_random_f1=f1_score(yts, lrg_random_pred)\n",
    "lrg_random_precision_pos=precision_score(yts, lrg_random_pred)\n",
    "lrg_random_precision_neg=precision_score(yts, lrg_random_pred,pos_label=0)\n",
    "lrg_random_recall_pos=recall_score(yts, lrg_random_pred)\n",
    "lrg_random_recall_neg=recall_score(yts, lrg_random_pred,pos_label=0)"
   ]
  },
  {
   "cell_type": "markdown",
   "metadata": {},
   "source": [
    "#### Decision Tree Classifier"
   ]
  },
  {
   "cell_type": "code",
   "execution_count": 13,
   "metadata": {},
   "outputs": [
    {
     "data": {
      "text/plain": [
       "RandomizedSearchCV(cv=5, estimator=DecisionTreeClassifier(),\n",
       "                   param_distributions={'ccp_alpha': [0.0],\n",
       "                                        'criterion': ['gini'],\n",
       "                                        'max_depth': [10, 20, 30, 40, 50, 60,\n",
       "                                                      70, 80, 90, 100],\n",
       "                                        'max_leaf_nodes': [None],\n",
       "                                        'min_impurity_decrease': [0.0],\n",
       "                                        'min_impurity_split': [None],\n",
       "                                        'min_samples_leaf': [1],\n",
       "                                        'min_samples_split': [2],\n",
       "                                        'min_weight_fraction_leaf': [0.0],\n",
       "                                        'presort': ['deprecated'],\n",
       "                                        'random_state': [None],\n",
       "                                        'splitter': ['best']})"
      ]
     },
     "execution_count": 13,
     "metadata": {},
     "output_type": "execute_result"
    }
   ],
   "source": [
    "maxdepth = [10, 20, 30, 40, 50, 60, 70, 80, 90, 100]\n",
    "\n",
    "\n",
    "param_dtc = {\"max_depth\" : maxdepth ,\n",
    "          \"presort\" : [True, False],\n",
    "          \"ccp_alpha\" : [0.0],\n",
    "          \"criterion\" : [\"gini\"],\n",
    "          \"max_leaf_nodes\" : [None],\n",
    "          \"min_impurity_decrease\" :[0.0],\n",
    "           \"min_impurity_split\" : [None],\n",
    "           \"min_samples_leaf\" : [1],\n",
    "           \"min_samples_split\" : [2],\n",
    "           \"min_weight_fraction_leaf\" : [0.0],\n",
    "           \"presort\" : ['deprecated'],\n",
    "           \"random_state\" : [None],\n",
    "           \"splitter\" : ['best']}\n",
    "\n",
    "dtc_rnd = RandomizedSearchCV(estimator= dtc, param_distributions= param_dtc, cv= 5)\n",
    "dtc_rnd.fit(Xtr, ytr)"
   ]
  },
  {
   "cell_type": "code",
   "execution_count": 14,
   "metadata": {},
   "outputs": [
    {
     "data": {
      "text/plain": [
       "{'splitter': 'best',\n",
       " 'random_state': None,\n",
       " 'presort': 'deprecated',\n",
       " 'min_weight_fraction_leaf': 0.0,\n",
       " 'min_samples_split': 2,\n",
       " 'min_samples_leaf': 1,\n",
       " 'min_impurity_split': None,\n",
       " 'min_impurity_decrease': 0.0,\n",
       " 'max_leaf_nodes': None,\n",
       " 'max_depth': 10,\n",
       " 'criterion': 'gini',\n",
       " 'ccp_alpha': 0.0}"
      ]
     },
     "execution_count": 14,
     "metadata": {},
     "output_type": "execute_result"
    }
   ],
   "source": [
    "dtc_rnd.best_params_"
   ]
  },
  {
   "cell_type": "code",
   "execution_count": 15,
   "metadata": {},
   "outputs": [
    {
     "data": {
      "text/plain": [
       "{'ccp_alpha': 0.0,\n",
       " 'class_weight': None,\n",
       " 'criterion': 'gini',\n",
       " 'max_depth': 10,\n",
       " 'max_features': None,\n",
       " 'max_leaf_nodes': None,\n",
       " 'min_impurity_decrease': 0.0,\n",
       " 'min_impurity_split': None,\n",
       " 'min_samples_leaf': 1,\n",
       " 'min_samples_split': 2,\n",
       " 'min_weight_fraction_leaf': 0.0,\n",
       " 'presort': 'deprecated',\n",
       " 'random_state': None,\n",
       " 'splitter': 'best'}"
      ]
     },
     "execution_count": 15,
     "metadata": {},
     "output_type": "execute_result"
    }
   ],
   "source": [
    "dtc_random = dtc_rnd.best_estimator_\n",
    "dtc_random.get_params()"
   ]
  },
  {
   "cell_type": "code",
   "execution_count": 16,
   "metadata": {},
   "outputs": [],
   "source": [
    "dtc_random_pred = dtc_random.predict(Xts)\n",
    "dtc_random_proba = dtc_random.predict_proba(Xts)\n",
    "dtc_random_accuracy=accuracy_score(yts, dtc_random_pred)\n",
    "dtc_random_f1=f1_score(yts, dtc_random_pred)\n",
    "dtc_random_precision_pos=precision_score(yts, dtc_random_pred)\n",
    "dtc_random_precision_neg=precision_score(yts, dtc_random_pred, pos_label=0)\n",
    "dtc_random_recall_pos=recall_score(yts, dtc_random_pred)\n",
    "dtc_random_recall_neg=recall_score(yts, dtc_random_pred, pos_label=0)"
   ]
  },
  {
   "cell_type": "markdown",
   "metadata": {},
   "source": [
    "#### Random Forest Classifier"
   ]
  },
  {
   "cell_type": "code",
   "execution_count": 17,
   "metadata": {},
   "outputs": [
    {
     "data": {
      "text/plain": [
       "RandomizedSearchCV(cv=5, estimator=RandomForestClassifier(),\n",
       "                   param_distributions={'bootstrap': [True, False],\n",
       "                                        'ccp_alpha': [0.0],\n",
       "                                        'class_weight': [None],\n",
       "                                        'criterion': ['gini'],\n",
       "                                        'max_depth': [None],\n",
       "                                        'max_features': ['auto', 'sqrt'],\n",
       "                                        'min_samples_leaf': [1, 2, 3, 4, 5],\n",
       "                                        'min_samples_split': [10, 50, 100],\n",
       "                                        'n_estimators': [10, 20, 30, 40, 50]})"
      ]
     },
     "execution_count": 17,
     "metadata": {},
     "output_type": "execute_result"
    }
   ],
   "source": [
    "n_estimators = [10,20,30,40,50]\n",
    "max_features = ['auto', 'sqrt']\n",
    "min_samples_split = [10, 50, 100]\n",
    "min_samples_leaf = [1, 2, 3, 4, 5]\n",
    "bootstrap = [True, False]\n",
    "\n",
    "param_rfc = {'n_estimators': n_estimators,\n",
    "            'max_features': max_features,\n",
    "            'min_samples_split': min_samples_split,\n",
    "            'min_samples_leaf': min_samples_leaf,\n",
    "            'bootstrap': bootstrap,\n",
    "            \"ccp_alpha\" : [0.0],\n",
    "            \"class_weight\" : [None],\n",
    "            \"criterion\": ['gini'],\n",
    "            \"max_depth\" : [None]\n",
    "           }\n",
    "\n",
    "rfc_rnd = RandomizedSearchCV(estimator= rfc, param_distributions= param_rfc, cv= 5)\n",
    "rfc_rnd.fit(Xtr, ytr)"
   ]
  },
  {
   "cell_type": "code",
   "execution_count": 18,
   "metadata": {},
   "outputs": [
    {
     "data": {
      "text/plain": [
       "{'n_estimators': 20,\n",
       " 'min_samples_split': 50,\n",
       " 'min_samples_leaf': 3,\n",
       " 'max_features': 'auto',\n",
       " 'max_depth': None,\n",
       " 'criterion': 'gini',\n",
       " 'class_weight': None,\n",
       " 'ccp_alpha': 0.0,\n",
       " 'bootstrap': False}"
      ]
     },
     "execution_count": 18,
     "metadata": {},
     "output_type": "execute_result"
    }
   ],
   "source": [
    "rfc_rnd.best_params_"
   ]
  },
  {
   "cell_type": "code",
   "execution_count": 19,
   "metadata": {},
   "outputs": [
    {
     "data": {
      "text/plain": [
       "{'bootstrap': False,\n",
       " 'ccp_alpha': 0.0,\n",
       " 'class_weight': None,\n",
       " 'criterion': 'gini',\n",
       " 'max_depth': None,\n",
       " 'max_features': 'auto',\n",
       " 'max_leaf_nodes': None,\n",
       " 'max_samples': None,\n",
       " 'min_impurity_decrease': 0.0,\n",
       " 'min_impurity_split': None,\n",
       " 'min_samples_leaf': 3,\n",
       " 'min_samples_split': 50,\n",
       " 'min_weight_fraction_leaf': 0.0,\n",
       " 'n_estimators': 20,\n",
       " 'n_jobs': None,\n",
       " 'oob_score': False,\n",
       " 'random_state': None,\n",
       " 'verbose': 0,\n",
       " 'warm_start': False}"
      ]
     },
     "execution_count": 19,
     "metadata": {},
     "output_type": "execute_result"
    }
   ],
   "source": [
    "rfc_random = rfc_rnd.best_estimator_\n",
    "rfc_random.get_params()"
   ]
  },
  {
   "cell_type": "code",
   "execution_count": 20,
   "metadata": {},
   "outputs": [],
   "source": [
    "rfc_random_pred = rfc_random.predict(Xts)\n",
    "rfc_random_proba = rfc_random.predict_proba(Xts)\n",
    "rfc_random_accuracy=accuracy_score(yts, rfc_random_pred)\n",
    "rfc_random_f1=f1_score(yts, rfc_random_pred)\n",
    "rfc_random_precision_pos=precision_score(yts, rfc_random_pred)\n",
    "rfc_random_precision_neg=precision_score(yts, rfc_random_pred, pos_label=0)\n",
    "rfc_random_recall_pos=recall_score(yts, rfc_random_pred)\n",
    "rfc_random_recall_neg=recall_score(yts, rfc_random_pred,pos_label=0)"
   ]
  },
  {
   "cell_type": "markdown",
   "metadata": {},
   "source": [
    "#### Gradient Boost Classifier"
   ]
  },
  {
   "cell_type": "code",
   "execution_count": 21,
   "metadata": {},
   "outputs": [
    {
     "data": {
      "text/plain": [
       "RandomizedSearchCV(cv=5, estimator=GradientBoostingClassifier(),\n",
       "                   param_distributions={'learning_rate': [0.1],\n",
       "                                        'max_depth': [1, 2, 3, 4, 5, 6, 7, 8],\n",
       "                                        'max_features': ['auto', 'sqrt'],\n",
       "                                        'min_samples_leaf': [10, 25, 50, 75,\n",
       "                                                             100],\n",
       "                                        'min_samples_split': [10, 50, 100, 150,\n",
       "                                                              200],\n",
       "                                        'n_estimators': [10, 20, 30, 40],\n",
       "                                        'random_state': [42],\n",
       "                                        'subsample': [0.8]})"
      ]
     },
     "execution_count": 21,
     "metadata": {},
     "output_type": "execute_result"
    }
   ],
   "source": [
    "n_estimators = list(range(10, 50, 10))\n",
    "max_features = ['auto', 'sqrt']\n",
    "min_samples_split = [10, 50, 100, 150, 200]\n",
    "min_samples_leaf = [10, 25, 50, 75, 100]\n",
    "max_depth = [1,2,3,4,5,6,7,8]\n",
    "\n",
    "\n",
    "param_gbc = {'n_estimators': n_estimators,\n",
    "              'learning_rate': [0.1], \n",
    "              'min_samples_split': min_samples_split,\n",
    "              'min_samples_leaf': min_samples_leaf,\n",
    "              'max_depth': max_depth,\n",
    "              'max_features': max_features,\n",
    "              'subsample': [0.8],\n",
    "              'random_state': [42]} \n",
    "\n",
    "gbc_rnd = RandomizedSearchCV(estimator= gbc, param_distributions= param_gbc, cv= 5)\n",
    "gbc_rnd.fit(Xtr, ytr)"
   ]
  },
  {
   "cell_type": "code",
   "execution_count": 22,
   "metadata": {},
   "outputs": [
    {
     "data": {
      "text/plain": [
       "{'subsample': 0.8,\n",
       " 'random_state': 42,\n",
       " 'n_estimators': 40,\n",
       " 'min_samples_split': 50,\n",
       " 'min_samples_leaf': 25,\n",
       " 'max_features': 'sqrt',\n",
       " 'max_depth': 6,\n",
       " 'learning_rate': 0.1}"
      ]
     },
     "execution_count": 22,
     "metadata": {},
     "output_type": "execute_result"
    }
   ],
   "source": [
    "gbc_rnd.best_params_"
   ]
  },
  {
   "cell_type": "code",
   "execution_count": 23,
   "metadata": {},
   "outputs": [
    {
     "data": {
      "text/plain": [
       "{'ccp_alpha': 0.0,\n",
       " 'criterion': 'friedman_mse',\n",
       " 'init': None,\n",
       " 'learning_rate': 0.1,\n",
       " 'loss': 'deviance',\n",
       " 'max_depth': 6,\n",
       " 'max_features': 'sqrt',\n",
       " 'max_leaf_nodes': None,\n",
       " 'min_impurity_decrease': 0.0,\n",
       " 'min_impurity_split': None,\n",
       " 'min_samples_leaf': 25,\n",
       " 'min_samples_split': 50,\n",
       " 'min_weight_fraction_leaf': 0.0,\n",
       " 'n_estimators': 40,\n",
       " 'n_iter_no_change': None,\n",
       " 'presort': 'deprecated',\n",
       " 'random_state': 42,\n",
       " 'subsample': 0.8,\n",
       " 'tol': 0.0001,\n",
       " 'validation_fraction': 0.1,\n",
       " 'verbose': 0,\n",
       " 'warm_start': False}"
      ]
     },
     "execution_count": 23,
     "metadata": {},
     "output_type": "execute_result"
    }
   ],
   "source": [
    "gbc_random = gbc_rnd.best_estimator_\n",
    "gbc_random.get_params()"
   ]
  },
  {
   "cell_type": "code",
   "execution_count": 24,
   "metadata": {},
   "outputs": [],
   "source": [
    "gbc_random_pred = gbc_random.predict(Xts)\n",
    "gbc_random_proba = gbc_random.predict_proba(Xts)\n",
    "gbc_random_accuracy=accuracy_score(yts, gbc_random_pred)\n",
    "gbc_random_f1=f1_score(yts, gbc_random_pred)\n",
    "gbc_random_precision_pos=precision_score(yts, gbc_random_pred)\n",
    "gbc_random_precision_neg=precision_score(yts, gbc_random_pred, pos_label=0)\n",
    "gbc_random_recall_pos=recall_score(yts, gbc_random_pred)\n",
    "gbc_random_recall_neg=recall_score(yts, gbc_random_pred, pos_label=0)"
   ]
  },
  {
   "cell_type": "markdown",
   "metadata": {},
   "source": [
    "#### Comparing Score "
   ]
  },
  {
   "cell_type": "code",
   "execution_count": 25,
   "metadata": {},
   "outputs": [
    {
     "data": {
      "text/html": [
       "<div>\n",
       "<style scoped>\n",
       "    .dataframe tbody tr th:only-of-type {\n",
       "        vertical-align: middle;\n",
       "    }\n",
       "\n",
       "    .dataframe tbody tr th {\n",
       "        vertical-align: top;\n",
       "    }\n",
       "\n",
       "    .dataframe thead th {\n",
       "        text-align: right;\n",
       "    }\n",
       "</style>\n",
       "<table border=\"1\" class=\"dataframe\">\n",
       "  <thead>\n",
       "    <tr style=\"text-align: right;\">\n",
       "      <th></th>\n",
       "      <th>Classifiers</th>\n",
       "      <th>Accuracy Score</th>\n",
       "      <th>F1 Score</th>\n",
       "      <th>Precision_Score_Positif</th>\n",
       "      <th>Recall_Score_Negative</th>\n",
       "    </tr>\n",
       "  </thead>\n",
       "  <tbody>\n",
       "    <tr>\n",
       "      <th>0</th>\n",
       "      <td>Logistic Regression</td>\n",
       "      <td>0.790864</td>\n",
       "      <td>0.772749</td>\n",
       "      <td>0.803644</td>\n",
       "      <td>0.833619</td>\n",
       "    </tr>\n",
       "    <tr>\n",
       "      <th>1</th>\n",
       "      <td>Decison Tree Classifier</td>\n",
       "      <td>0.724586</td>\n",
       "      <td>0.712482</td>\n",
       "      <td>0.710821</td>\n",
       "      <td>0.734134</td>\n",
       "    </tr>\n",
       "    <tr>\n",
       "      <th>2</th>\n",
       "      <td>Random Forest Classifier</td>\n",
       "      <td>0.783251</td>\n",
       "      <td>0.777164</td>\n",
       "      <td>0.763801</td>\n",
       "      <td>0.776158</td>\n",
       "    </tr>\n",
       "    <tr>\n",
       "      <th>3</th>\n",
       "      <td>Gradient Boost Classifier</td>\n",
       "      <td>0.806090</td>\n",
       "      <td>0.800736</td>\n",
       "      <td>0.786618</td>\n",
       "      <td>0.797599</td>\n",
       "    </tr>\n",
       "    <tr>\n",
       "      <th>4</th>\n",
       "      <td>Logistic Regression Hyperparameter</td>\n",
       "      <td>0.770712</td>\n",
       "      <td>0.747783</td>\n",
       "      <td>0.788162</td>\n",
       "      <td>0.825043</td>\n",
       "    </tr>\n",
       "    <tr>\n",
       "      <th>5</th>\n",
       "      <td>Decison Tree Classifier Hyperparameter</td>\n",
       "      <td>0.776982</td>\n",
       "      <td>0.770507</td>\n",
       "      <td>0.757933</td>\n",
       "      <td>0.771012</td>\n",
       "    </tr>\n",
       "    <tr>\n",
       "      <th>6</th>\n",
       "      <td>Random Forest Classifier Hyperparameter</td>\n",
       "      <td>0.801164</td>\n",
       "      <td>0.797998</td>\n",
       "      <td>0.775420</td>\n",
       "      <td>0.782161</td>\n",
       "    </tr>\n",
       "    <tr>\n",
       "      <th>7</th>\n",
       "      <td>Gradient Boost Classifier Hyperparameter</td>\n",
       "      <td>0.802508</td>\n",
       "      <td>0.796493</td>\n",
       "      <td>0.784545</td>\n",
       "      <td>0.796741</td>\n",
       "    </tr>\n",
       "  </tbody>\n",
       "</table>\n",
       "</div>"
      ],
      "text/plain": [
       "                                Classifiers  Accuracy Score  F1 Score  \\\n",
       "0                       Logistic Regression        0.790864  0.772749   \n",
       "1                   Decison Tree Classifier        0.724586  0.712482   \n",
       "2                  Random Forest Classifier        0.783251  0.777164   \n",
       "3                 Gradient Boost Classifier        0.806090  0.800736   \n",
       "4        Logistic Regression Hyperparameter        0.770712  0.747783   \n",
       "5    Decison Tree Classifier Hyperparameter        0.776982  0.770507   \n",
       "6   Random Forest Classifier Hyperparameter        0.801164  0.797998   \n",
       "7  Gradient Boost Classifier Hyperparameter        0.802508  0.796493   \n",
       "\n",
       "   Precision_Score_Positif  Recall_Score_Negative  \n",
       "0                 0.803644               0.833619  \n",
       "1                 0.710821               0.734134  \n",
       "2                 0.763801               0.776158  \n",
       "3                 0.786618               0.797599  \n",
       "4                 0.788162               0.825043  \n",
       "5                 0.757933               0.771012  \n",
       "6                 0.775420               0.782161  \n",
       "7                 0.784545               0.796741  "
      ]
     },
     "execution_count": 25,
     "metadata": {},
     "output_type": "execute_result"
    }
   ],
   "source": [
    "d = {'Classifiers': ['Logistic Regression', 'Decison Tree Classifier', 'Random Forest Classifier', 'Gradient Boost Classifier',\n",
    "                     'Logistic Regression Hyperparameter', 'Decison Tree Classifier Hyperparameter', \n",
    "                     'Random Forest Classifier Hyperparameter', 'Gradient Boost Classifier Hyperparameter'], \n",
    "     'Accuracy Score':[lrg_accuracy, dtc_accuracy, rfc_accuracy, gbc_accuracy,\n",
    "                       lrg_random_accuracy, dtc_random_accuracy, rfc_random_accuracy, gbc_random_accuracy],\n",
    "     'F1 Score': [lrg_f1, dtc_f1, rfc_f1, gbc_f1,lrg_random_f1, dtc_random_f1, rfc_random_f1, gbc_random_f1], \n",
    "     'Precision_Score_Positif':[lrg_precision_pos,dtc_precision_pos,rfc_precision_pos,gbc_precision_pos,\n",
    "                                lrg_random_precision_pos,dtc_random_precision_pos,rfc_random_precision_pos,gbc_random_precision_pos],\n",
    "     'Recall_Score_Negative':[lrg_recall_neg,dtc_recall_neg,rfc_recall_neg,gbc_recall_neg, \n",
    "                             lrg_random_recall_neg,dtc_random_recall_neg,rfc_random_recall_neg,gbc_random_recall_neg]}\n",
    "result=pd.DataFrame(data=d)\n",
    "result"
   ]
  },
  {
   "cell_type": "markdown",
   "metadata": {},
   "source": [
    "As already seen the four models we have built have their own accuracy of predicting whether a client will say “yes” or “no” to a term deposit of the bank. As expected there is some variation in the accuracy and F1_score, among the three classification algorithm. Based on the precision positive and recall negative, the most reliable model for the data set appears to be the Logistic Regression."
   ]
  },
  {
   "cell_type": "markdown",
   "metadata": {},
   "source": [
    "<hr>\n",
    "\n",
    "#### Resampling"
   ]
  },
  {
   "cell_type": "markdown",
   "metadata": {},
   "source": [
    "##### SMOTE"
   ]
  },
  {
   "cell_type": "code",
   "execution_count": 26,
   "metadata": {},
   "outputs": [],
   "source": [
    "smo = SMOTE()\n",
    "xsmo, ysmo = smo.fit_resample(Xtr, ytr)"
   ]
  },
  {
   "cell_type": "code",
   "execution_count": 27,
   "metadata": {},
   "outputs": [],
   "source": [
    "lrg_smo = LogisticRegression()\n",
    "lrg_smo.fit(xsmo, ysmo)\n",
    "lrg_predict_smo = lrg_smo.predict(Xts)\n",
    "lrg_proba_smo = lrg_smo.predict_proba(Xts)\n",
    "lrg_accuracy_smo=accuracy_score(yts, lrg_predict_smo)\n",
    "lrg_f1_smo=f1_score(yts, lrg_predict_smo)\n",
    "lrg_precision_smo_pos=precision_score(yts, lrg_predict_smo)\n",
    "lrg_recall_smo_neg=recall_score(yts, lrg_predict_smo, pos_label=0)\n",
    "lrg_auc_smo= roc_auc_score(yts, lrg_predict_smo)\n"
   ]
  },
  {
   "cell_type": "markdown",
   "metadata": {},
   "source": [
    "#### Random Over Sampler"
   ]
  },
  {
   "cell_type": "code",
   "execution_count": 28,
   "metadata": {},
   "outputs": [],
   "source": [
    "ros = RandomOverSampler()\n",
    "xros, yros = ros.fit_resample(Xtr, ytr)"
   ]
  },
  {
   "cell_type": "code",
   "execution_count": 29,
   "metadata": {},
   "outputs": [],
   "source": [
    "lrg_ros = LogisticRegression()\n",
    "lrg_ros.fit(xros, yros)\n",
    "lrg_predict_ros = lrg_ros.predict(Xts)\n",
    "lrg_proba_ros = lrg_ros.predict_proba(Xts)\n",
    "lrg_accuracy_ros=accuracy_score(yts, lrg_predict_ros)\n",
    "lrg_f1_ros=f1_score(yts, lrg_predict_ros)\n",
    "lrg_precision_ros_pos=precision_score(yts, lrg_predict_ros)\n",
    "lrg_recall_ros_neg=recall_score(yts, lrg_predict_ros, pos_label=0)\n",
    "lrg_auc_ros= roc_auc_score(yts, lrg_predict_ros)"
   ]
  },
  {
   "cell_type": "markdown",
   "metadata": {},
   "source": [
    "#### Random Under Sampler"
   ]
  },
  {
   "cell_type": "code",
   "execution_count": 30,
   "metadata": {},
   "outputs": [],
   "source": [
    "rus = RandomUnderSampler()\n",
    "xrus, yrus = rus.fit_resample(Xtr, ytr)"
   ]
  },
  {
   "cell_type": "code",
   "execution_count": 31,
   "metadata": {},
   "outputs": [],
   "source": [
    "lrg_rus = LogisticRegression()\n",
    "lrg_rus.fit(xrus, yrus)\n",
    "lrg_predict_rus = lrg_rus.predict(Xts)\n",
    "lrg_proba_rus = lrg_rus.predict_proba(Xts)\n",
    "lrg_accuracy_rus=accuracy_score(yts, lrg_predict_rus)\n",
    "lrg_f1_rus=f1_score(yts, lrg_predict_rus)\n",
    "lrg_precision_rus_pos=precision_score(yts, lrg_predict_rus)\n",
    "lrg_recall_rus_neg=recall_score(yts, lrg_predict_rus, pos_label=0)\n",
    "lrg_auc_rus= roc_auc_score(yts, lrg_predict_rus)"
   ]
  },
  {
   "cell_type": "markdown",
   "metadata": {},
   "source": [
    "#### Comparing Score Best Algorithma After Resampling"
   ]
  },
  {
   "cell_type": "code",
   "execution_count": 32,
   "metadata": {},
   "outputs": [
    {
     "data": {
      "text/html": [
       "<div>\n",
       "<style scoped>\n",
       "    .dataframe tbody tr th:only-of-type {\n",
       "        vertical-align: middle;\n",
       "    }\n",
       "\n",
       "    .dataframe tbody tr th {\n",
       "        vertical-align: top;\n",
       "    }\n",
       "\n",
       "    .dataframe thead th {\n",
       "        text-align: right;\n",
       "    }\n",
       "</style>\n",
       "<table border=\"1\" class=\"dataframe\">\n",
       "  <thead>\n",
       "    <tr style=\"text-align: right;\">\n",
       "      <th></th>\n",
       "      <th>Classifiers</th>\n",
       "      <th>Accuracy Score</th>\n",
       "      <th>F1 Score</th>\n",
       "      <th>Precision_Score_Positive</th>\n",
       "      <th>Recall_Score_Negative</th>\n",
       "      <th>AUC Score</th>\n",
       "    </tr>\n",
       "  </thead>\n",
       "  <tbody>\n",
       "    <tr>\n",
       "      <th>0</th>\n",
       "      <td>Logistic Regression</td>\n",
       "      <td>0.790864</td>\n",
       "      <td>0.772749</td>\n",
       "      <td>0.803644</td>\n",
       "      <td>0.833619</td>\n",
       "      <td>0.788881</td>\n",
       "    </tr>\n",
       "    <tr>\n",
       "      <th>1</th>\n",
       "      <td>Logistic Regression SMOTE</td>\n",
       "      <td>0.788625</td>\n",
       "      <td>0.772640</td>\n",
       "      <td>0.794846</td>\n",
       "      <td>0.822470</td>\n",
       "      <td>0.787055</td>\n",
       "    </tr>\n",
       "    <tr>\n",
       "      <th>2</th>\n",
       "      <td>Logistic Regression ROS</td>\n",
       "      <td>0.788177</td>\n",
       "      <td>0.775297</td>\n",
       "      <td>0.786127</td>\n",
       "      <td>0.809605</td>\n",
       "      <td>0.787183</td>\n",
       "    </tr>\n",
       "    <tr>\n",
       "      <th>3</th>\n",
       "      <td>Logistic Regression RUS</td>\n",
       "      <td>0.787282</td>\n",
       "      <td>0.773702</td>\n",
       "      <td>0.786822</td>\n",
       "      <td>0.811321</td>\n",
       "      <td>0.786166</td>\n",
       "    </tr>\n",
       "  </tbody>\n",
       "</table>\n",
       "</div>"
      ],
      "text/plain": [
       "                 Classifiers  Accuracy Score  F1 Score  \\\n",
       "0        Logistic Regression        0.790864  0.772749   \n",
       "1  Logistic Regression SMOTE        0.788625  0.772640   \n",
       "2    Logistic Regression ROS        0.788177  0.775297   \n",
       "3    Logistic Regression RUS        0.787282  0.773702   \n",
       "\n",
       "   Precision_Score_Positive  Recall_Score_Negative  AUC Score  \n",
       "0                  0.803644               0.833619   0.788881  \n",
       "1                  0.794846               0.822470   0.787055  \n",
       "2                  0.786127               0.809605   0.787183  \n",
       "3                  0.786822               0.811321   0.786166  "
      ]
     },
     "execution_count": 32,
     "metadata": {},
     "output_type": "execute_result"
    }
   ],
   "source": [
    "d = {'Classifiers': ['Logistic Regression', 'Logistic Regression SMOTE', 'Logistic Regression ROS', 'Logistic Regression RUS'], \n",
    "     'Accuracy Score':[lrg_accuracy,lrg_accuracy_smo, lrg_accuracy_ros,lrg_accuracy_rus],\n",
    "     'F1 Score': [lrg_f1,lrg_f1_smo,lrg_f1_ros,lrg_f1_rus], \n",
    "     'Precision_Score_Positive':[lrg_precision_pos, lrg_precision_smo_pos, lrg_precision_ros_pos,lrg_precision_rus_pos],\n",
    "     'Recall_Score_Negative':[lrg_recall_neg, lrg_recall_smo_neg, lrg_recall_ros_neg, lrg_recall_rus_neg],\n",
    "     'AUC Score':[lrg_auc, lrg_auc_smo,lrg_auc_ros,lrg_auc_rus]}\n",
    "result=pd.DataFrame(data=d)\n",
    "result"
   ]
  },
  {
   "cell_type": "markdown",
   "metadata": {},
   "source": [
    "### Confusion Matrix and ROC Best Model"
   ]
  },
  {
   "cell_type": "markdown",
   "metadata": {},
   "source": [
    "##### Logistic Regression"
   ]
  },
  {
   "cell_type": "code",
   "execution_count": 33,
   "metadata": {},
   "outputs": [
    {
     "data": {
      "text/plain": [
       "<sklearn.metrics._plot.confusion_matrix.ConfusionMatrixDisplay at 0x7fbb2cfe1090>"
      ]
     },
     "execution_count": 33,
     "metadata": {},
     "output_type": "execute_result"
    },
    {
     "data": {
      "image/png": "[encoded data removed]",
      "text/plain": [
       "<Figure size 432x288 with 2 Axes>"
      ]
     },
     "metadata": {
      "needs_background": "light"
     },
     "output_type": "display_data"
    }
   ],
   "source": [
    "plot_confusion_matrix(lrg, Xts, yts)"
   ]
  },
  {
   "cell_type": "code",
   "execution_count": 34,
   "metadata": {},
   "outputs": [
    {
     "data": {
      "image/png": "[encoded data removed]",
      "text/plain": [
       "<Figure size 720x576 with 1 Axes>"
      ]
     },
     "metadata": {
      "needs_background": "light"
     },
     "output_type": "display_data"
    }
   ],
   "source": [
    "proba_lrg = lrg_proba[:,1]\n",
    "fpr_lrg, tpr_lrg, thr_lrg = roc_curve(yts, proba_lrg)\n",
    "auc_lrg = auc(fpr_lrg, tpr_lrg)\n",
    "\n",
    "plt.figure(figsize=(10,8))\n",
    "plt.plot(fpr_lrg, tpr_lrg, 'b--o', label='AUC - Logistic Regression: {}'.format(round(auc_lrg, 4)))\n",
    "plt.plot([0,1], [0,1], 'r--')\n",
    "plt.xlim([0,1])\n",
    "plt.ylim([0,1])\n",
    "plt.xlabel('FPR')\n",
    "plt.ylabel('TPR')\n",
    "plt.fill_between(fpr_lrg, tpr_lrg, 0, facecolor='azure', alpha=1)\n",
    "plt.legend(loc='lower right')\n",
    "plt.show()"
   ]
  },
  {
   "cell_type": "code",
   "execution_count": 35,
   "metadata": {},
   "outputs": [
    {
     "data": {
      "text/html": [
       "<div>\n",
       "<style scoped>\n",
       "    .dataframe tbody tr th:only-of-type {\n",
       "        vertical-align: middle;\n",
       "    }\n",
       "\n",
       "    .dataframe tbody tr th {\n",
       "        vertical-align: top;\n",
       "    }\n",
       "\n",
       "    .dataframe thead th {\n",
       "        text-align: right;\n",
       "    }\n",
       "</style>\n",
       "<table border=\"1\" class=\"dataframe\">\n",
       "  <thead>\n",
       "    <tr style=\"text-align: right;\">\n",
       "      <th></th>\n",
       "      <th>thr</th>\n",
       "      <th>tpr</th>\n",
       "      <th>fpr</th>\n",
       "    </tr>\n",
       "  </thead>\n",
       "  <tbody>\n",
       "    <tr>\n",
       "      <th>0</th>\n",
       "      <td>2.000000</td>\n",
       "      <td>0.000000</td>\n",
       "      <td>0.000000</td>\n",
       "    </tr>\n",
       "    <tr>\n",
       "      <th>1</th>\n",
       "      <td>1.000000</td>\n",
       "      <td>0.000000</td>\n",
       "      <td>0.000858</td>\n",
       "    </tr>\n",
       "    <tr>\n",
       "      <th>2</th>\n",
       "      <td>0.991405</td>\n",
       "      <td>0.066542</td>\n",
       "      <td>0.000858</td>\n",
       "    </tr>\n",
       "    <tr>\n",
       "      <th>3</th>\n",
       "      <td>0.991130</td>\n",
       "      <td>0.066542</td>\n",
       "      <td>0.001715</td>\n",
       "    </tr>\n",
       "    <tr>\n",
       "      <th>4</th>\n",
       "      <td>0.983463</td>\n",
       "      <td>0.095595</td>\n",
       "      <td>0.001715</td>\n",
       "    </tr>\n",
       "    <tr>\n",
       "      <th>5</th>\n",
       "      <td>0.982049</td>\n",
       "      <td>0.095595</td>\n",
       "      <td>0.003431</td>\n",
       "    </tr>\n",
       "    <tr>\n",
       "      <th>6</th>\n",
       "      <td>0.974563</td>\n",
       "      <td>0.134021</td>\n",
       "      <td>0.003431</td>\n",
       "    </tr>\n",
       "    <tr>\n",
       "      <th>7</th>\n",
       "      <td>0.974453</td>\n",
       "      <td>0.134021</td>\n",
       "      <td>0.004288</td>\n",
       "    </tr>\n",
       "    <tr>\n",
       "      <th>8</th>\n",
       "      <td>0.972066</td>\n",
       "      <td>0.142455</td>\n",
       "      <td>0.004288</td>\n",
       "    </tr>\n",
       "    <tr>\n",
       "      <th>9</th>\n",
       "      <td>0.971723</td>\n",
       "      <td>0.142455</td>\n",
       "      <td>0.005146</td>\n",
       "    </tr>\n",
       "    <tr>\n",
       "      <th>10</th>\n",
       "      <td>0.964993</td>\n",
       "      <td>0.163074</td>\n",
       "      <td>0.005146</td>\n",
       "    </tr>\n",
       "    <tr>\n",
       "      <th>11</th>\n",
       "      <td>0.964820</td>\n",
       "      <td>0.163074</td>\n",
       "      <td>0.006003</td>\n",
       "    </tr>\n",
       "    <tr>\n",
       "      <th>12</th>\n",
       "      <td>0.964811</td>\n",
       "      <td>0.164011</td>\n",
       "      <td>0.006003</td>\n",
       "    </tr>\n",
       "    <tr>\n",
       "      <th>13</th>\n",
       "      <td>0.964660</td>\n",
       "      <td>0.164011</td>\n",
       "      <td>0.006861</td>\n",
       "    </tr>\n",
       "    <tr>\n",
       "      <th>14</th>\n",
       "      <td>0.960651</td>\n",
       "      <td>0.174321</td>\n",
       "      <td>0.006861</td>\n",
       "    </tr>\n",
       "  </tbody>\n",
       "</table>\n",
       "</div>"
      ],
      "text/plain": [
       "         thr       tpr       fpr\n",
       "0   2.000000  0.000000  0.000000\n",
       "1   1.000000  0.000000  0.000858\n",
       "2   0.991405  0.066542  0.000858\n",
       "3   0.991130  0.066542  0.001715\n",
       "4   0.983463  0.095595  0.001715\n",
       "5   0.982049  0.095595  0.003431\n",
       "6   0.974563  0.134021  0.003431\n",
       "7   0.974453  0.134021  0.004288\n",
       "8   0.972066  0.142455  0.004288\n",
       "9   0.971723  0.142455  0.005146\n",
       "10  0.964993  0.163074  0.005146\n",
       "11  0.964820  0.163074  0.006003\n",
       "12  0.964811  0.164011  0.006003\n",
       "13  0.964660  0.164011  0.006861\n",
       "14  0.960651  0.174321  0.006861"
      ]
     },
     "execution_count": 35,
     "metadata": {},
     "output_type": "execute_result"
    }
   ],
   "source": [
    "lrg_thr = pd.DataFrame({'thr': thr_lrg, 'tpr': tpr_lrg, 'fpr': fpr_lrg})\n",
    "lrg_thr.head(15)"
   ]
  },
  {
   "cell_type": "code",
   "execution_count": 36,
   "metadata": {},
   "outputs": [],
   "source": [
    "pred_09 = [0 if x <0.983463  else 1 for x in proba_lrg]"
   ]
  },
  {
   "cell_type": "code",
   "execution_count": 37,
   "metadata": {},
   "outputs": [
    {
     "data": {
      "text/plain": [
       "array([[1164,    2],\n",
       "       [ 965,  102]])"
      ]
     },
     "execution_count": 37,
     "metadata": {},
     "output_type": "execute_result"
    }
   ],
   "source": [
    "confusion_matrix(yts, pred_09)"
   ]
  },
  {
   "cell_type": "markdown",
   "metadata": {},
   "source": [
    "In this prediction, the choice is to reduce the likelihood of the model making a False Positive (the customers are not potential to open term deposit but are predicted potential) as this will make the marketing team's campaign effective and efficient. This will help in minimizing the cost to the bank by avoiding to call customers who are unlikely to open the term deposit. \n",
    "Based on the comparing above, select logistic regression with shift threshold to 0.9 as the best model to predict. This can be seen from the smallest false positive value in the confusion matrix."
   ]
  },
  {
   "cell_type": "markdown",
   "metadata": {},
   "source": [
    "<hr>"
   ]
  },
  {
   "cell_type": "markdown",
   "metadata": {},
   "source": [
    "### Deploy model to joblib"
   ]
  },
  {
   "cell_type": "code",
   "execution_count": 38,
   "metadata": {},
   "outputs": [
    {
     "data": {
      "text/plain": [
       "['bestmodel']"
      ]
     },
     "execution_count": 38,
     "metadata": {},
     "output_type": "execute_result"
    }
   ],
   "source": [
    "joblib.dump(lrg, \"bestmodel\")"
   ]
  },
  {
   "cell_type": "code",
   "execution_count": null,
   "metadata": {},
   "outputs": [],
   "source": []
  }
 ],
 "metadata": {
  "kernelspec": {
   "display_name": "Python 3",
   "language": "python",
   "name": "python3"
  },
  "language_info": {
   "codemirror_mode": {
    "name": "ipython",
    "version": 3
   },
   "file_extension": ".py",
   "mimetype": "text/x-python",
   "name": "python",
   "nbconvert_exporter": "python",
   "pygments_lexer": "ipython3",
   "version": "3.7.6"
  }
 },
 "nbformat": 4,
 "nbformat_minor": 4
}
